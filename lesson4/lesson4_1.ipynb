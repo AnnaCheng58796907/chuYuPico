{
 "cells": [
  {
   "cell_type": "markdown",
   "metadata": {},
   "source": [
    "#### 1. 單項選擇<br>\n",
    "* if bool:<br>\n",
    "    True程式區塊\n",
    "    \n",
    "#### 2.  雙項選擇<br>\n",
    "* if bool:<br>\n",
    "    True程式區塊<br>\n",
    "  else:<br>\n",
    "    False程式區塊  "
   ]
  },
  {
   "cell_type": "code",
   "execution_count": 1,
   "metadata": {},
   "outputs": [
    {
     "name": "stdout",
     "output_type": "stream",
     "text": [
      "不可以考駕照!\n",
      "應用程式結束!\n"
     ]
    }
   ],
   "source": [
    "#if\n",
    "age = 17\n",
    "if age < 18 :\n",
    "    print(\"不可以考駕照!\")\n",
    "else :\n",
    "    print (\"可以考駕照!\")\n",
    "\n",
    "print(\"應用程式結束!\")"
   ]
  },
  {
   "cell_type": "code",
   "execution_count": 2,
   "metadata": {},
   "outputs": [
    {
     "ename": "ValueError",
     "evalue": "invalid literal for int() with base 10: '250a'",
     "output_type": "error",
     "traceback": [
      "\u001b[1;31m---------------------------------------------------------------------------\u001b[0m",
      "\u001b[1;31mValueError\u001b[0m                                Traceback (most recent call last)",
      "Cell \u001b[1;32mIn[2], line 5\u001b[0m\n\u001b[0;32m      1\u001b[0m \u001b[38;5;66;03m#學生總分為300分\u001b[39;00m\n\u001b[0;32m      2\u001b[0m \u001b[38;5;66;03m#符合學生可以加5%\u001b[39;00m\n\u001b[0;32m      3\u001b[0m \u001b[38;5;66;03m#如果加分超過300,就以300為主\u001b[39;00m\n\u001b[1;32m----> 5\u001b[0m score \u001b[38;5;241m=\u001b[39m \u001b[38;5;28;43mint\u001b[39;49m\u001b[43m(\u001b[49m\u001b[38;5;28;43minput\u001b[39;49m\u001b[43m(\u001b[49m\u001b[38;5;124;43m\"\u001b[39;49m\u001b[38;5;124;43m請輸入學生分數(最高分數300分):\u001b[39;49m\u001b[38;5;124;43m\"\u001b[39;49m\u001b[43m)\u001b[49m\u001b[43m)\u001b[49m\n\u001b[0;32m      6\u001b[0m is_add \u001b[38;5;241m=\u001b[39m \u001b[38;5;28minput\u001b[39m(\u001b[38;5;124m\"\u001b[39m\u001b[38;5;124m學生是否符合加分調價(Y,N):\u001b[39m\u001b[38;5;124m\"\u001b[39m)\n\u001b[0;32m      8\u001b[0m \u001b[38;5;28;01mif\u001b[39;00m is_add \u001b[38;5;241m==\u001b[39m \u001b[38;5;124m\"\u001b[39m\u001b[38;5;124my\u001b[39m\u001b[38;5;124m\"\u001b[39m \u001b[38;5;129;01mor\u001b[39;00m is_add \u001b[38;5;241m==\u001b[39m \u001b[38;5;124m\"\u001b[39m\u001b[38;5;124mY\u001b[39m\u001b[38;5;124m\"\u001b[39m :\n",
      "\u001b[1;31mValueError\u001b[0m: invalid literal for int() with base 10: '250a'"
     ]
    }
   ],
   "source": [
    "#學生總分為300分\n",
    "#符合學生可以加5%\n",
    "#如果加分超過300,就以300為主\n",
    "\n",
    "score = int(input(\"請輸入學生分數(最高分數300分):\"))\n",
    "is_add = input(\"學生是否符合加分調價(Y,N):\")\n",
    "\n",
    "if is_add == \"y\" or is_add == \"Y\" :\n",
    "    score *= 1.05\n",
    "    if score > 300 :\n",
    "        score = 300\n",
    "\n",
    "\n",
    "# print(\"學生分數是:\" + str(score))\n",
    "print(f\"學生分數是:{score}\")\n"
   ]
  },
  {
   "cell_type": "code",
   "execution_count": 7,
   "metadata": {},
   "outputs": [
    {
     "name": "stdout",
     "output_type": "stream",
     "text": [
      "輸入格式有錯\n",
      "應用程式結束!\n"
     ]
    }
   ],
   "source": [
    "#學生總分為300分\n",
    "#符合學生可以加5%\n",
    "#如果加分超過300,就以300為主\n",
    "#增加Error檢驗try\n",
    "\n",
    "try:\n",
    "    score = int(input(\"請輸入學生分數(最高分數300分):\"))\n",
    "except ValueError: #指定某個錯誤\n",
    "    print(\"輸入格式有錯\")\n",
    "except Exception:  #其他所有錯誤\n",
    "    print(\"不知名的錯誤\")\n",
    "else:\n",
    "       \n",
    "    is_add = input(\"學生是否符合加分調價(Y,N):\")\n",
    "\n",
    "    if is_add == \"y\" or is_add == \"Y\" :\n",
    "        score *= 1.05\n",
    "        if score > 300 :\n",
    "            score = 300\n",
    "\n",
    "\n",
    "    # print(\"學生分數是:\" + str(score))\n",
    "    print(f\"學生分數是:{score}\")\n",
    "\n",
    "print(\"應用程式結束!\")"
   ]
  },
  {
   "cell_type": "code",
   "execution_count": 10,
   "metadata": {},
   "outputs": [
    {
     "name": "stdout",
     "output_type": "stream",
     "text": [
      "學生分數是:262.5\n",
      "應用程式結束!\n"
     ]
    }
   ],
   "source": [
    "#學生總分為300分\n",
    "#符合學生可以加5%\n",
    "#如果加分超過300,就以300為主\n",
    "#增加Error檢驗try\n",
    "\n",
    "try:\n",
    "    score = int(input(\"請輸入學生分數(最高分數300分):\"))\n",
    "    is_add = input(\"學生是否符合加分調價(Y,N):\")\n",
    "\n",
    "    if is_add == \"y\" or is_add == \"Y\" :\n",
    "        score *= 1.05\n",
    "        if score > 300 :\n",
    "            score = 300\n",
    "        # print(\"學生分數是:\" + str(score))\n",
    "    print(f\"學生分數是:{score}\")\n",
    "except ValueError: #指定某個錯誤\n",
    "    print(\"輸入格式有錯\")\n",
    "except Exception:  #其他所有錯誤\n",
    "    print(\"不知名的錯誤\")    \n",
    "\n",
    "\n",
    "\n",
    "\n",
    "print(\"應用程式結束!\")"
   ]
  },
  {
   "cell_type": "code",
   "execution_count": 13,
   "metadata": {},
   "outputs": [
    {
     "name": "stdout",
     "output_type": "stream",
     "text": [
      "輸入格式有錯\n",
      "應用程式結束!\n"
     ]
    }
   ],
   "source": [
    "#學生總分為300分\n",
    "#符合學生可以加5%\n",
    "#如果加分超過300,就以300為主\n",
    "#增加Error檢驗try\n",
    "#手動raise Exception\n",
    "\n",
    "try:\n",
    "    score = int(input(\"請輸入學生分數(最高分數300分):\"))\n",
    "    if score > 300:\n",
    "        raise Exception(\"輸入分數不可以超過300分\")\n",
    "    is_add = input(\"學生是否符合加分調價(Y,N):\")\n",
    "\n",
    "    if is_add == \"y\" or is_add == \"Y\" :\n",
    "        score *= 1.05\n",
    "        if score > 300 :\n",
    "            score = 300\n",
    "        # print(\"學生分數是:\" + str(score))\n",
    "    print(f\"學生分數是:{score}\")\n",
    "except ValueError: #指定某個錯誤\n",
    "    print(\"輸入格式有錯\")\n",
    "except Exception as e:  #其他所有錯誤\n",
    "    print(f\"錯誤訊息:{e}\")    \n",
    "\n",
    "\n",
    "\n",
    "\n",
    "print(\"應用程式結束!\")"
   ]
  }
 ],
 "metadata": {
  "kernelspec": {
   "display_name": "venv1",
   "language": "python",
   "name": "python3"
  },
  "language_info": {
   "codemirror_mode": {
    "name": "ipython",
    "version": 3
   },
   "file_extension": ".py",
   "mimetype": "text/x-python",
   "name": "python",
   "nbconvert_exporter": "python",
   "pygments_lexer": "ipython3",
   "version": "3.11.9"
  }
 },
 "nbformat": 4,
 "nbformat_minor": 2
}
