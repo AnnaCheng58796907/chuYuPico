{
 "cells": [
  {
   "cell_type": "markdown",
   "metadata": {},
   "source": [
    "#### 1. 單項選擇\n",
    "\n",
    "* if bool:\n",
    "\n",
    "True程式區塊\n",
    "    \n",
    "#### 2.  雙項選擇\n",
    "\n",
    "* if bool:\n",
    "\n",
    "True程式區塊\n",
    "\n",
    "else:\n",
    "    \n",
    "False程式區塊  "
   ]
  },
  {
   "cell_type": "code",
   "execution_count": 1,
   "metadata": {},
   "outputs": [
    {
     "name": "stdout",
     "output_type": "stream",
     "text": [
      "不可以考駕照!\n",
      "應用程式結束!\n"
     ]
    }
   ],
   "source": [
    "#if\n",
    "age = 17\n",
    "if age < 18 :\n",
    "    print(\"不可以考駕照!\")\n",
    "else :\n",
    "    print (\"可以考駕照!\")\n",
    "\n",
    "print(\"應用程式結束!\")"
   ]
  },
  {
   "cell_type": "code",
   "execution_count": 2,
   "metadata": {},
   "outputs": [
    {
     "name": "stdout",
     "output_type": "stream",
     "text": [
      "250 n\n"
     ]
    }
   ],
   "source": [
    "score = int(input(\"請輸入學生分數(最高分數300分):\"))\n",
    "is_add = input(\"學生是否符合加分調價(Y,N):\")\n",
    "\n",
    "print(score, is_add)"
   ]
  }
 ],
 "metadata": {
  "kernelspec": {
   "display_name": "venv1",
   "language": "python",
   "name": "python3"
  },
  "language_info": {
   "codemirror_mode": {
    "name": "ipython",
    "version": 3
   },
   "file_extension": ".py",
   "mimetype": "text/x-python",
   "name": "python",
   "nbconvert_exporter": "python",
   "pygments_lexer": "ipython3",
   "version": "3.11.9"
  }
 },
 "nbformat": 4,
 "nbformat_minor": 2
}
