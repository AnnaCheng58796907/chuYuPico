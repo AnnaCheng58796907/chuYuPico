{
 "cells": [
  {
   "cell_type": "markdown",
   "metadata": {},
   "source": [
    "## for in迴圈\n",
    " * for in range(開始, 結束, )"
   ]
  },
  {
   "cell_type": "code",
   "execution_count": 6,
   "metadata": {},
   "outputs": [
    {
     "name": "stdout",
     "output_type": "stream",
     "text": [
      "1, total=1\n",
      "2, total=3\n",
      "3, total=6\n",
      "4, total=10\n",
      "5, total=15\n",
      "6, total=21\n",
      "7, total=28\n",
      "8, total=36\n",
      "9, total=45\n",
      "10, total=55\n"
     ]
    }
   ],
   "source": [
    "total = 0\n",
    "\n",
    "for i in range(1, 11):\n",
    "    total += i\n",
    "    print(f'{i}, total={total}')"
   ]
  },
  {
   "cell_type": "code",
   "execution_count": 8,
   "metadata": {},
   "outputs": [
    {
     "name": "stdout",
     "output_type": "stream",
     "text": [
      "99, total=2500\n"
     ]
    }
   ],
   "source": [
    "total = 0\n",
    "\n",
    "for i in range(1, 101, 2):\n",
    "    total += i\n",
    "print(f'{i}, total={total}')"
   ]
  },
  {
   "cell_type": "code",
   "execution_count": 9,
   "metadata": {},
   "outputs": [
    {
     "name": "stdout",
     "output_type": "stream",
     "text": [
      "r\n",
      "o\n",
      "b\n",
      "e\n",
      "r\n",
      "t\n"
     ]
    }
   ],
   "source": [
    "for i in \"robert\":\n",
    "    print(i)"
   ]
  },
  {
   "cell_type": "markdown",
   "metadata": {},
   "source": [
    "## while bool(True 或 False)迴圈 \n",
    "* 無限迴圈(要注意,會卡住程式,一直執行)<br>\n",
    "```\n",
    "while True:\n",
    "    程式區塊\n",
    "```\n",
    "* pico為單一晶片,會一直執行一件事情\n",
    "* 程式區塊內增加break,則會跳出迴圈\n",
    "```\n",
    "while True:\n",
    "    程式區塊\n",
    "    break\n",
    "```\n",
    "* 程式區塊內增加continue,則會跳出,並執行下一次迴圈\n",
    "```\n",
    "while True:\n",
    "    程式區塊\n",
    "    continue\n",
    "```\n"
   ]
  },
  {
   "cell_type": "code",
   "execution_count": null,
   "metadata": {},
   "outputs": [],
   "source": []
  }
 ],
 "metadata": {
  "kernelspec": {
   "display_name": "venv1",
   "language": "python",
   "name": "python3"
  },
  "language_info": {
   "codemirror_mode": {
    "name": "ipython",
    "version": 3
   },
   "file_extension": ".py",
   "mimetype": "text/x-python",
   "name": "python",
   "nbconvert_exporter": "python",
   "pygments_lexer": "ipython3",
   "version": "3.11.9"
  }
 },
 "nbformat": 4,
 "nbformat_minor": 2
}
